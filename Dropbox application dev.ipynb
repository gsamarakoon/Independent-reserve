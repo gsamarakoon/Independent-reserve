{
 "cells": [
  {
   "cell_type": "code",
   "execution_count": 1,
   "metadata": {},
   "outputs": [
    {
     "name": "stdout",
     "output_type": "stream",
     "text": [
      "Collecting dropbox\n",
      "  Downloading https://files.pythonhosted.org/packages/f0/79/9649cb4cc7a7b47a7022d056eff2c7754d743a25a35cbc0f625aeb599290/dropbox-9.1.0-py3-none-any.whl (496kB)\n",
      "Requirement already satisfied: six>=1.3.0 in c:\\users\\samar\\anaconda3\\lib\\site-packages (from dropbox) (1.11.0)\n",
      "Collecting requests>=2.16.2 (from dropbox)\n",
      "  Downloading https://files.pythonhosted.org/packages/65/47/7e02164a2a3db50ed6d8a6ab1d6d60b69c4c3fdf57a284257925dfc12bda/requests-2.19.1-py2.py3-none-any.whl (91kB)\n",
      "Requirement already satisfied: certifi>=2017.4.17 in c:\\users\\samar\\anaconda3\\lib\\site-packages (from requests>=2.16.2->dropbox) (2018.4.16)\n",
      "Requirement already satisfied: idna<2.8,>=2.5 in c:\\users\\samar\\anaconda3\\lib\\site-packages (from requests>=2.16.2->dropbox) (2.6)\n",
      "Requirement already satisfied: chardet<3.1.0,>=3.0.2 in c:\\users\\samar\\anaconda3\\lib\\site-packages (from requests>=2.16.2->dropbox) (3.0.4)\n",
      "Requirement already satisfied: urllib3<1.24,>=1.21.1 in c:\\users\\samar\\anaconda3\\lib\\site-packages (from requests>=2.16.2->dropbox) (1.22)\n",
      "Installing collected packages: requests, dropbox\n",
      "  Found existing installation: requests 2.14.2\n",
      "    Uninstalling requests-2.14.2:\n",
      "      Successfully uninstalled requests-2.14.2\n",
      "Successfully installed dropbox-9.1.0 requests-2.19.1\n"
     ]
    },
    {
     "name": "stderr",
     "output_type": "stream",
     "text": [
      "pyindependentreserve 0.2.0 has requirement requests==2.14.2, but you'll have requests 2.19.1 which is incompatible.\n"
     ]
    }
   ],
   "source": [
    "import sys\n",
    "!{sys.executable} -m pip install dropbox"
   ]
  },
  {
   "cell_type": "code",
   "execution_count": null,
   "metadata": {},
   "outputs": [],
   "source": []
  }
 ],
 "metadata": {
  "kernelspec": {
   "display_name": "Python 3",
   "language": "python",
   "name": "python3"
  },
  "language_info": {
   "codemirror_mode": {
    "name": "ipython",
    "version": 3
   },
   "file_extension": ".py",
   "mimetype": "text/x-python",
   "name": "python",
   "nbconvert_exporter": "python",
   "pygments_lexer": "ipython3",
   "version": "3.6.5"
  }
 },
 "nbformat": 4,
 "nbformat_minor": 2
}
